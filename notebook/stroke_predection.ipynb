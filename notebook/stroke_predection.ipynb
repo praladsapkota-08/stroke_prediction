{
 "cells": [
  {
   "cell_type": "code",
   "execution_count": 1,
   "id": "855d5aea-a424-48fd-8942-91cf2328412f",
   "metadata": {},
   "outputs": [],
   "source": [
    "import pandas as pd\n",
    "import numpy as np\n",
    "import matplotlib.pyplot as plt\n",
    "import seaborn as sns\n",
    "\n",
    "from sklearn.preprocessing import LabelEncoder ,StandardScaler\n",
    "from sklearn.model_selection import train_test_split, GridSearchCV\n",
    "from sklearn.linear_model import LogisticRegression\n",
    "from sklearn.svm import SVC\n",
    "from sklearn.neighbors import KNeighborsClassifier\n",
    "from sklearn.ensemble import RandomForestClassifier\n",
    "from xgboost import XGBClassifier\n",
    "from sklearn.metrics import accuracy_score, confusion_matrix, classification_report,precision_score\n",
    "\n",
    "from imblearn.over_sampling import SMOTE\n",
    "import joblib"
   ]
  },
  {
   "cell_type": "code",
   "execution_count": 2,
   "id": "fe82ee9c-bc5d-45f5-bc9e-79eca1f197ff",
   "metadata": {},
   "outputs": [],
   "source": [
    "file_path = \"..\\\\data\\\\stroke_data.csv\"\n",
    "sk = pd.read_csv(file_path)"
   ]
  },
  {
   "cell_type": "code",
   "execution_count": 3,
   "id": "1ad4911c-e461-496a-9179-89be06eb9176",
   "metadata": {},
   "outputs": [
    {
     "data": {
      "text/html": [
       "<div>\n",
       "<style scoped>\n",
       "    .dataframe tbody tr th:only-of-type {\n",
       "        vertical-align: middle;\n",
       "    }\n",
       "\n",
       "    .dataframe tbody tr th {\n",
       "        vertical-align: top;\n",
       "    }\n",
       "\n",
       "    .dataframe thead th {\n",
       "        text-align: right;\n",
       "    }\n",
       "</style>\n",
       "<table border=\"1\" class=\"dataframe\">\n",
       "  <thead>\n",
       "    <tr style=\"text-align: right;\">\n",
       "      <th></th>\n",
       "      <th>id</th>\n",
       "      <th>gender</th>\n",
       "      <th>age</th>\n",
       "      <th>hypertension</th>\n",
       "      <th>heart_disease</th>\n",
       "      <th>ever_married</th>\n",
       "      <th>work_type</th>\n",
       "      <th>Residence_type</th>\n",
       "      <th>avg_glucose_level</th>\n",
       "      <th>bmi</th>\n",
       "      <th>smoking_status</th>\n",
       "      <th>stroke</th>\n",
       "    </tr>\n",
       "  </thead>\n",
       "  <tbody>\n",
       "    <tr>\n",
       "      <th>0</th>\n",
       "      <td>9046</td>\n",
       "      <td>Male</td>\n",
       "      <td>67.0</td>\n",
       "      <td>0</td>\n",
       "      <td>1</td>\n",
       "      <td>Yes</td>\n",
       "      <td>Private</td>\n",
       "      <td>Urban</td>\n",
       "      <td>228.69</td>\n",
       "      <td>36.6</td>\n",
       "      <td>formerly smoked</td>\n",
       "      <td>1</td>\n",
       "    </tr>\n",
       "    <tr>\n",
       "      <th>1</th>\n",
       "      <td>51676</td>\n",
       "      <td>Female</td>\n",
       "      <td>61.0</td>\n",
       "      <td>0</td>\n",
       "      <td>0</td>\n",
       "      <td>Yes</td>\n",
       "      <td>Self-employed</td>\n",
       "      <td>Rural</td>\n",
       "      <td>202.21</td>\n",
       "      <td>NaN</td>\n",
       "      <td>never smoked</td>\n",
       "      <td>1</td>\n",
       "    </tr>\n",
       "    <tr>\n",
       "      <th>2</th>\n",
       "      <td>31112</td>\n",
       "      <td>Male</td>\n",
       "      <td>80.0</td>\n",
       "      <td>0</td>\n",
       "      <td>1</td>\n",
       "      <td>Yes</td>\n",
       "      <td>Private</td>\n",
       "      <td>Rural</td>\n",
       "      <td>105.92</td>\n",
       "      <td>32.5</td>\n",
       "      <td>never smoked</td>\n",
       "      <td>1</td>\n",
       "    </tr>\n",
       "    <tr>\n",
       "      <th>3</th>\n",
       "      <td>60182</td>\n",
       "      <td>Female</td>\n",
       "      <td>49.0</td>\n",
       "      <td>0</td>\n",
       "      <td>0</td>\n",
       "      <td>Yes</td>\n",
       "      <td>Private</td>\n",
       "      <td>Urban</td>\n",
       "      <td>171.23</td>\n",
       "      <td>34.4</td>\n",
       "      <td>smokes</td>\n",
       "      <td>1</td>\n",
       "    </tr>\n",
       "    <tr>\n",
       "      <th>4</th>\n",
       "      <td>1665</td>\n",
       "      <td>Female</td>\n",
       "      <td>79.0</td>\n",
       "      <td>1</td>\n",
       "      <td>0</td>\n",
       "      <td>Yes</td>\n",
       "      <td>Self-employed</td>\n",
       "      <td>Rural</td>\n",
       "      <td>174.12</td>\n",
       "      <td>24.0</td>\n",
       "      <td>never smoked</td>\n",
       "      <td>1</td>\n",
       "    </tr>\n",
       "    <tr>\n",
       "      <th>...</th>\n",
       "      <td>...</td>\n",
       "      <td>...</td>\n",
       "      <td>...</td>\n",
       "      <td>...</td>\n",
       "      <td>...</td>\n",
       "      <td>...</td>\n",
       "      <td>...</td>\n",
       "      <td>...</td>\n",
       "      <td>...</td>\n",
       "      <td>...</td>\n",
       "      <td>...</td>\n",
       "      <td>...</td>\n",
       "    </tr>\n",
       "    <tr>\n",
       "      <th>5105</th>\n",
       "      <td>18234</td>\n",
       "      <td>Female</td>\n",
       "      <td>80.0</td>\n",
       "      <td>1</td>\n",
       "      <td>0</td>\n",
       "      <td>Yes</td>\n",
       "      <td>Private</td>\n",
       "      <td>Urban</td>\n",
       "      <td>83.75</td>\n",
       "      <td>NaN</td>\n",
       "      <td>never smoked</td>\n",
       "      <td>0</td>\n",
       "    </tr>\n",
       "    <tr>\n",
       "      <th>5106</th>\n",
       "      <td>44873</td>\n",
       "      <td>Female</td>\n",
       "      <td>81.0</td>\n",
       "      <td>0</td>\n",
       "      <td>0</td>\n",
       "      <td>Yes</td>\n",
       "      <td>Self-employed</td>\n",
       "      <td>Urban</td>\n",
       "      <td>125.20</td>\n",
       "      <td>40.0</td>\n",
       "      <td>never smoked</td>\n",
       "      <td>0</td>\n",
       "    </tr>\n",
       "    <tr>\n",
       "      <th>5107</th>\n",
       "      <td>19723</td>\n",
       "      <td>Female</td>\n",
       "      <td>35.0</td>\n",
       "      <td>0</td>\n",
       "      <td>0</td>\n",
       "      <td>Yes</td>\n",
       "      <td>Self-employed</td>\n",
       "      <td>Rural</td>\n",
       "      <td>82.99</td>\n",
       "      <td>30.6</td>\n",
       "      <td>never smoked</td>\n",
       "      <td>0</td>\n",
       "    </tr>\n",
       "    <tr>\n",
       "      <th>5108</th>\n",
       "      <td>37544</td>\n",
       "      <td>Male</td>\n",
       "      <td>51.0</td>\n",
       "      <td>0</td>\n",
       "      <td>0</td>\n",
       "      <td>Yes</td>\n",
       "      <td>Private</td>\n",
       "      <td>Rural</td>\n",
       "      <td>166.29</td>\n",
       "      <td>25.6</td>\n",
       "      <td>formerly smoked</td>\n",
       "      <td>0</td>\n",
       "    </tr>\n",
       "    <tr>\n",
       "      <th>5109</th>\n",
       "      <td>44679</td>\n",
       "      <td>Female</td>\n",
       "      <td>44.0</td>\n",
       "      <td>0</td>\n",
       "      <td>0</td>\n",
       "      <td>Yes</td>\n",
       "      <td>Govt_job</td>\n",
       "      <td>Urban</td>\n",
       "      <td>85.28</td>\n",
       "      <td>26.2</td>\n",
       "      <td>Unknown</td>\n",
       "      <td>0</td>\n",
       "    </tr>\n",
       "  </tbody>\n",
       "</table>\n",
       "<p>5110 rows × 12 columns</p>\n",
       "</div>"
      ],
      "text/plain": [
       "         id  gender   age  hypertension  heart_disease ever_married  \\\n",
       "0      9046    Male  67.0             0              1          Yes   \n",
       "1     51676  Female  61.0             0              0          Yes   \n",
       "2     31112    Male  80.0             0              1          Yes   \n",
       "3     60182  Female  49.0             0              0          Yes   \n",
       "4      1665  Female  79.0             1              0          Yes   \n",
       "...     ...     ...   ...           ...            ...          ...   \n",
       "5105  18234  Female  80.0             1              0          Yes   \n",
       "5106  44873  Female  81.0             0              0          Yes   \n",
       "5107  19723  Female  35.0             0              0          Yes   \n",
       "5108  37544    Male  51.0             0              0          Yes   \n",
       "5109  44679  Female  44.0             0              0          Yes   \n",
       "\n",
       "          work_type Residence_type  avg_glucose_level   bmi   smoking_status  \\\n",
       "0           Private          Urban             228.69  36.6  formerly smoked   \n",
       "1     Self-employed          Rural             202.21   NaN     never smoked   \n",
       "2           Private          Rural             105.92  32.5     never smoked   \n",
       "3           Private          Urban             171.23  34.4           smokes   \n",
       "4     Self-employed          Rural             174.12  24.0     never smoked   \n",
       "...             ...            ...                ...   ...              ...   \n",
       "5105        Private          Urban              83.75   NaN     never smoked   \n",
       "5106  Self-employed          Urban             125.20  40.0     never smoked   \n",
       "5107  Self-employed          Rural              82.99  30.6     never smoked   \n",
       "5108        Private          Rural             166.29  25.6  formerly smoked   \n",
       "5109       Govt_job          Urban              85.28  26.2          Unknown   \n",
       "\n",
       "      stroke  \n",
       "0          1  \n",
       "1          1  \n",
       "2          1  \n",
       "3          1  \n",
       "4          1  \n",
       "...      ...  \n",
       "5105       0  \n",
       "5106       0  \n",
       "5107       0  \n",
       "5108       0  \n",
       "5109       0  \n",
       "\n",
       "[5110 rows x 12 columns]"
      ]
     },
     "execution_count": 3,
     "metadata": {},
     "output_type": "execute_result"
    }
   ],
   "source": [
    "sk"
   ]
  },
  {
   "cell_type": "code",
   "execution_count": 4,
   "id": "bd902cb8-85b4-47f6-b153-413ff0a0c071",
   "metadata": {},
   "outputs": [
    {
     "name": "stdout",
     "output_type": "stream",
     "text": [
      "<class 'pandas.core.frame.DataFrame'>\n",
      "RangeIndex: 5110 entries, 0 to 5109\n",
      "Data columns (total 12 columns):\n",
      " #   Column             Non-Null Count  Dtype  \n",
      "---  ------             --------------  -----  \n",
      " 0   id                 5110 non-null   int64  \n",
      " 1   gender             5110 non-null   object \n",
      " 2   age                5110 non-null   float64\n",
      " 3   hypertension       5110 non-null   int64  \n",
      " 4   heart_disease      5110 non-null   int64  \n",
      " 5   ever_married       5110 non-null   object \n",
      " 6   work_type          5110 non-null   object \n",
      " 7   Residence_type     5110 non-null   object \n",
      " 8   avg_glucose_level  5110 non-null   float64\n",
      " 9   bmi                4909 non-null   float64\n",
      " 10  smoking_status     5110 non-null   object \n",
      " 11  stroke             5110 non-null   int64  \n",
      "dtypes: float64(3), int64(4), object(5)\n",
      "memory usage: 479.2+ KB\n"
     ]
    }
   ],
   "source": [
    "sk.info()"
   ]
  },
  {
   "cell_type": "code",
   "execution_count": 5,
   "id": "e56d6ceb-1838-41dc-a23f-d7bcd6bac8d4",
   "metadata": {},
   "outputs": [
    {
     "data": {
      "text/html": [
       "<div>\n",
       "<style scoped>\n",
       "    .dataframe tbody tr th:only-of-type {\n",
       "        vertical-align: middle;\n",
       "    }\n",
       "\n",
       "    .dataframe tbody tr th {\n",
       "        vertical-align: top;\n",
       "    }\n",
       "\n",
       "    .dataframe thead th {\n",
       "        text-align: right;\n",
       "    }\n",
       "</style>\n",
       "<table border=\"1\" class=\"dataframe\">\n",
       "  <thead>\n",
       "    <tr style=\"text-align: right;\">\n",
       "      <th></th>\n",
       "      <th>id</th>\n",
       "      <th>age</th>\n",
       "      <th>hypertension</th>\n",
       "      <th>heart_disease</th>\n",
       "      <th>avg_glucose_level</th>\n",
       "      <th>bmi</th>\n",
       "      <th>stroke</th>\n",
       "    </tr>\n",
       "  </thead>\n",
       "  <tbody>\n",
       "    <tr>\n",
       "      <th>count</th>\n",
       "      <td>5110.000000</td>\n",
       "      <td>5110.000000</td>\n",
       "      <td>5110.000000</td>\n",
       "      <td>5110.000000</td>\n",
       "      <td>5110.000000</td>\n",
       "      <td>4909.000000</td>\n",
       "      <td>5110.000000</td>\n",
       "    </tr>\n",
       "    <tr>\n",
       "      <th>mean</th>\n",
       "      <td>36517.829354</td>\n",
       "      <td>43.226614</td>\n",
       "      <td>0.097456</td>\n",
       "      <td>0.054012</td>\n",
       "      <td>106.147677</td>\n",
       "      <td>28.893237</td>\n",
       "      <td>0.048728</td>\n",
       "    </tr>\n",
       "    <tr>\n",
       "      <th>std</th>\n",
       "      <td>21161.721625</td>\n",
       "      <td>22.612647</td>\n",
       "      <td>0.296607</td>\n",
       "      <td>0.226063</td>\n",
       "      <td>45.283560</td>\n",
       "      <td>7.854067</td>\n",
       "      <td>0.215320</td>\n",
       "    </tr>\n",
       "    <tr>\n",
       "      <th>min</th>\n",
       "      <td>67.000000</td>\n",
       "      <td>0.080000</td>\n",
       "      <td>0.000000</td>\n",
       "      <td>0.000000</td>\n",
       "      <td>55.120000</td>\n",
       "      <td>10.300000</td>\n",
       "      <td>0.000000</td>\n",
       "    </tr>\n",
       "    <tr>\n",
       "      <th>25%</th>\n",
       "      <td>17741.250000</td>\n",
       "      <td>25.000000</td>\n",
       "      <td>0.000000</td>\n",
       "      <td>0.000000</td>\n",
       "      <td>77.245000</td>\n",
       "      <td>23.500000</td>\n",
       "      <td>0.000000</td>\n",
       "    </tr>\n",
       "    <tr>\n",
       "      <th>50%</th>\n",
       "      <td>36932.000000</td>\n",
       "      <td>45.000000</td>\n",
       "      <td>0.000000</td>\n",
       "      <td>0.000000</td>\n",
       "      <td>91.885000</td>\n",
       "      <td>28.100000</td>\n",
       "      <td>0.000000</td>\n",
       "    </tr>\n",
       "    <tr>\n",
       "      <th>75%</th>\n",
       "      <td>54682.000000</td>\n",
       "      <td>61.000000</td>\n",
       "      <td>0.000000</td>\n",
       "      <td>0.000000</td>\n",
       "      <td>114.090000</td>\n",
       "      <td>33.100000</td>\n",
       "      <td>0.000000</td>\n",
       "    </tr>\n",
       "    <tr>\n",
       "      <th>max</th>\n",
       "      <td>72940.000000</td>\n",
       "      <td>82.000000</td>\n",
       "      <td>1.000000</td>\n",
       "      <td>1.000000</td>\n",
       "      <td>271.740000</td>\n",
       "      <td>97.600000</td>\n",
       "      <td>1.000000</td>\n",
       "    </tr>\n",
       "  </tbody>\n",
       "</table>\n",
       "</div>"
      ],
      "text/plain": [
       "                 id          age  hypertension  heart_disease  \\\n",
       "count   5110.000000  5110.000000   5110.000000    5110.000000   \n",
       "mean   36517.829354    43.226614      0.097456       0.054012   \n",
       "std    21161.721625    22.612647      0.296607       0.226063   \n",
       "min       67.000000     0.080000      0.000000       0.000000   \n",
       "25%    17741.250000    25.000000      0.000000       0.000000   \n",
       "50%    36932.000000    45.000000      0.000000       0.000000   \n",
       "75%    54682.000000    61.000000      0.000000       0.000000   \n",
       "max    72940.000000    82.000000      1.000000       1.000000   \n",
       "\n",
       "       avg_glucose_level          bmi       stroke  \n",
       "count        5110.000000  4909.000000  5110.000000  \n",
       "mean          106.147677    28.893237     0.048728  \n",
       "std            45.283560     7.854067     0.215320  \n",
       "min            55.120000    10.300000     0.000000  \n",
       "25%            77.245000    23.500000     0.000000  \n",
       "50%            91.885000    28.100000     0.000000  \n",
       "75%           114.090000    33.100000     0.000000  \n",
       "max           271.740000    97.600000     1.000000  "
      ]
     },
     "execution_count": 5,
     "metadata": {},
     "output_type": "execute_result"
    }
   ],
   "source": [
    "sk.describe()"
   ]
  },
  {
   "cell_type": "code",
   "execution_count": 6,
   "id": "e324e397-b2ca-4e41-99a0-ea547d3c965a",
   "metadata": {},
   "outputs": [
    {
     "data": {
      "image/png": "[encoded data removed]",
      "text/plain": [
       "<Figure size 400x500 with 1 Axes>"
      ]
     },
     "metadata": {},
     "output_type": "display_data"
    },
    {
     "name": "stdout",
     "output_type": "stream",
     "text": [
      "stroke\n",
      "0    95.127202\n",
      "1     4.872798\n",
      "Name: proportion, dtype: float64\n"
     ]
    }
   ],
   "source": [
    "plt.figure(figsize = (4,5))\n",
    "sns.countplot(x = 'stroke', data = sk)\n",
    "plt.xlabel('stroke')\n",
    "plt.ylabel('count')\n",
    "plt.show()\n",
    "print(sk.stroke.value_counts(normalize = True) * 100)"
   ]
  },
  {
   "cell_type": "markdown",
   "id": "51d9703e-5292-44a0-8eb3-5438ea2d7dd2",
   "metadata": {},
   "source": [
    "# Stroke Prediction Project\n",
    "\n",
    "This project aims to predict stroke risk using the `stroke-data.csv` dataset from Kaggle. Due to the rarity of stroke cases, we will address class imbalance and focus on metrics like **Recall** and **ROC-AUC** to ensure high-risk patients are identified. Key steps include:\n",
    "- Data cleaning and feature selection\n",
    "- Model training and evaluation\n",
    "- Emphasis on clinical usefulness\n",
    "\n",
    "The goal is to create a reliable tool for early stroke risk detection."
   ]
  },
  {
   "cell_type": "code",
   "execution_count": 7,
   "id": "fccf8590-11a0-49a7-9179-3e6b459e2c7d",
   "metadata": {},
   "outputs": [
    {
     "data": {
      "text/plain": [
       "id                     0\n",
       "gender                 0\n",
       "age                    0\n",
       "hypertension           0\n",
       "heart_disease          0\n",
       "ever_married           0\n",
       "work_type              0\n",
       "Residence_type         0\n",
       "avg_glucose_level      0\n",
       "bmi                  201\n",
       "smoking_status         0\n",
       "stroke                 0\n",
       "dtype: int64"
      ]
     },
     "execution_count": 7,
     "metadata": {},
     "output_type": "execute_result"
    }
   ],
   "source": [
    "sk.isnull().sum()"
   ]
  },
  {
   "cell_type": "code",
   "execution_count": 8,
   "id": "9ef1091d-c0df-4d57-ae83-cb68df429b42",
   "metadata": {},
   "outputs": [
    {
     "data": {
      "text/plain": [
       "np.int64(0)"
      ]
     },
     "execution_count": 8,
     "metadata": {},
     "output_type": "execute_result"
    }
   ],
   "source": [
    "sk.duplicated().sum()"
   ]
  },
  {
   "cell_type": "code",
   "execution_count": 9,
   "id": "7838181d-a4c9-492d-a5e7-bf163eb412a2",
   "metadata": {},
   "outputs": [],
   "source": [
    "sk['bmi'] = sk['bmi'].fillna(sk.bmi.median())"
   ]
  },
  {
   "cell_type": "code",
   "execution_count": 10,
   "id": "4afe1473-77b0-4f9d-bd03-63e219d91412",
   "metadata": {},
   "outputs": [
    {
     "data": {
      "text/plain": [
       "stroke\n",
       "0    4861\n",
       "1     249\n",
       "Name: count, dtype: int64"
      ]
     },
     "execution_count": 10,
     "metadata": {},
     "output_type": "execute_result"
    }
   ],
   "source": [
    "sk.stroke.value_counts()"
   ]
  },
  {
   "cell_type": "code",
   "execution_count": 11,
   "id": "29c5b5f0-6b74-4e6e-9b81-b6e6a0c441cf",
   "metadata": {},
   "outputs": [
    {
     "data": {
      "text/plain": [
       "stroke\n",
       "0    95.127202\n",
       "1     4.872798\n",
       "Name: proportion, dtype: float64"
      ]
     },
     "execution_count": 11,
     "metadata": {},
     "output_type": "execute_result"
    }
   ],
   "source": [
    "sk.stroke.value_counts(normalize = True) * 100"
   ]
  },
  {
   "cell_type": "markdown",
   "id": "4388d072-a9d3-4f5f-9e10-ea067cd6729c",
   "metadata": {},
   "source": [
    "## Exploratory Data Analysis\n",
    "The dataset contains **5110 records** and **12 columns**: `id`, `gender`, `age`, `hypertension`, `heart_disease`, `ever_married`, `work_type`, `Residence_type`, `avg_glucose_level`, `bmi`, `smoking_status`, `stroke`. Key observations:\n",
    "- **Missing Values**: The `bmi` column has 201 missing entries (4909 non-null out of 5110). The `smoking_status` column includes an `Unknown` category that may need handling.\n",
    "- **Class Imbalance**: Approximately 4.87% of records have `stroke=1` (249/5110), indicating a significant class imbalance that requires techniques like SMOTE for modeling.\n",
    "  "
   ]
  },
  {
   "cell_type": "code",
   "execution_count": 12,
   "id": "b0b0ec7a-f1b4-433e-9d05-f1bee7c05f86",
   "metadata": {},
   "outputs": [
    {
     "data": {
      "image/png": "[encoded data removed]",
      "text/plain": [
       "<Figure size 640x480 with 1 Axes>"
      ]
     },
     "metadata": {},
     "output_type": "display_data"
    }
   ],
   "source": [
    "plt.title('age distribution')\n",
    "plt.hist(sk.age)\n",
    "plt.show()"
   ]
  },
  {
   "cell_type": "code",
   "execution_count": 13,
   "id": "a74e8260-1240-4d65-b957-5cc0580856df",
   "metadata": {
    "scrolled": true
   },
   "outputs": [
    {
     "name": "stdout",
     "output_type": "stream",
     "text": [
      "stroke\n",
      "0    4861\n",
      "1     249\n",
      "Name: count, dtype: int64\n"
     ]
    },
    {
     "data": {
      "image/png": "[encoded data removed]",
      "text/plain": [
       "<Figure size 640x480 with 1 Axes>"
      ]
     },
     "metadata": {},
     "output_type": "display_data"
    }
   ],
   "source": [
    "stroke_counts = sk.stroke.value_counts()\n",
    "print(stroke_counts)\n",
    "\n",
    "plt.title('bar diagram of stroke')\n",
    "plt.bar(stroke_counts.index , stroke_counts.values)\n",
    "plt.xlim(-0.5, 1.5)\n",
    "plt.xticks(stroke_counts.index, ['No Stroke', 'Stroke'])  # Custom labels for 0 and 1\n",
    "plt.show()"
   ]
  },
  {
   "cell_type": "code",
   "execution_count": null,
   "id": "314419a7-1e37-4183-be9e-292abb4d4408",
   "metadata": {},
   "outputs": [
    {
     "name": "stdout",
     "output_type": "stream",
     "text": [
      "Encoded dataframe shape: (5110, 16)\n",
      "   gender   age  hypertension  heart_disease  ever_married  Residence_type  \\\n",
      "0       1  67.0             0              1             1               1   \n",
      "1       0  61.0             0              0             1               0   \n",
      "2       1  80.0             0              1             1               0   \n",
      "3       0  49.0             0              0             1               1   \n",
      "4       0  79.0             1              0             1               0   \n",
      "\n",
      "   avg_glucose_level   bmi  stroke  work_type_Never_worked  work_type_Private  \\\n",
      "0             228.69  36.6       1                   False               True   \n",
      "1             202.21  28.1       1                   False              False   \n",
      "2             105.92  32.5       1                   False               True   \n",
      "3             171.23  34.4       1                   False               True   \n",
      "4             174.12  24.0       1                   False              False   \n",
      "\n",
      "   work_type_Self-employed  work_type_children  \\\n",
      "0                    False               False   \n",
      "1                     True               False   \n",
      "2                    False               False   \n",
      "3                    False               False   \n",
      "4                     True               False   \n",
      "\n",
      "   smoking_status_formerly smoked  smoking_status_never smoked  \\\n",
      "0                            True                        False   \n",
      "1                           False                         True   \n",
      "2                           False                         True   \n",
      "3                           False                        False   \n",
      "4                           False                         True   \n",
      "\n",
      "   smoking_status_smokes  \n",
      "0                  False  \n",
      "1                  False  \n",
      "2                  False  \n",
      "3                   True  \n",
      "4                  False  \n"
     ]
    }
   ],
   "source": [
    "encoded_sk = sk.copy()\n",
    "\n",
    "le = LabelEncoder()\n",
    "encoded_sk['gender'] = le.fit_transform(encoded_sk['gender'])\n",
    "encoded_sk['ever_married'] = le.fit_transform(encoded_sk['ever_married'])\n",
    "encoded_sk['Residence_type'] = le.fit_transform(encoded_sk['Residence_type'])\n",
    "\n",
    "joblib.dump('..\\\\model\\\\label_encoder.joblib')\n",
    "encoded_sk = pd.get_dummies(encoded_sk , columns = ['work_type','smoking_status'], drop_first = True)\n",
    "\n",
    "encoded_sk = encoded_sk.drop('id' , axis = 1)\n",
    "\n",
    "print('Encoded dataframe shape:', encoded_sk.shape)\n",
    "print(encoded_sk.head())"
   ]
  },
  {
   "cell_type": "code",
   "execution_count": 15,
   "id": "761f5401-ef32-4154-b3d3-60a6ac41cf2d",
   "metadata": {},
   "outputs": [
    {
     "name": "stdout",
     "output_type": "stream",
     "text": [
      "shape of dataframe after feature engineering (5110, 18)\n"
     ]
    }
   ],
   "source": [
    "encoded_sk['age_hypertension'] = encoded_sk['age'] * encoded_sk['hypertension']\n",
    "encoded_sk['age_heart_disease'] = encoded_sk['age'] * encoded_sk['heart_disease']\n",
    "print('shape of dataframe after feature engineering', encoded_sk.shape)"
   ]
  },
  {
   "cell_type": "code",
   "execution_count": 16,
   "id": "7b8dd31e-871e-4f9c-9416-ecee31344668",
   "metadata": {},
   "outputs": [
    {
     "name": "stdout",
     "output_type": "stream",
     "text": [
      "<class 'pandas.core.frame.DataFrame'>\n",
      "RangeIndex: 5110 entries, 0 to 5109\n",
      "Data columns (total 18 columns):\n",
      " #   Column                          Non-Null Count  Dtype  \n",
      "---  ------                          --------------  -----  \n",
      " 0   gender                          5110 non-null   int64  \n",
      " 1   age                             5110 non-null   float64\n",
      " 2   hypertension                    5110 non-null   int64  \n",
      " 3   heart_disease                   5110 non-null   int64  \n",
      " 4   ever_married                    5110 non-null   int64  \n",
      " 5   Residence_type                  5110 non-null   int64  \n",
      " 6   avg_glucose_level               5110 non-null   float64\n",
      " 7   bmi                             5110 non-null   float64\n",
      " 8   stroke                          5110 non-null   int64  \n",
      " 9   work_type_Never_worked          5110 non-null   bool   \n",
      " 10  work_type_Private               5110 non-null   bool   \n",
      " 11  work_type_Self-employed         5110 non-null   bool   \n",
      " 12  work_type_children              5110 non-null   bool   \n",
      " 13  smoking_status_formerly smoked  5110 non-null   bool   \n",
      " 14  smoking_status_never smoked     5110 non-null   bool   \n",
      " 15  smoking_status_smokes           5110 non-null   bool   \n",
      " 16  age_hypertension                5110 non-null   float64\n",
      " 17  age_heart_disease               5110 non-null   float64\n",
      "dtypes: bool(7), float64(5), int64(6)\n",
      "memory usage: 474.2 KB\n"
     ]
    }
   ],
   "source": [
    "encoded_sk.stroke.value_counts(normalize = True) * 100\n",
    "encoded_sk.info()"
   ]
  },
  {
   "cell_type": "code",
   "execution_count": 17,
   "id": "7bab2fad-cae0-4847-a213-9c111e59341d",
   "metadata": {},
   "outputs": [
    {
     "name": "stdout",
     "output_type": "stream",
     "text": [
      "correlation with stroke:\n",
      " age                               0.245257\n",
      "age_hypertension                  0.149634\n",
      "age_heart_disease                 0.142783\n",
      "heart_disease                     0.134914\n",
      "avg_glucose_level                 0.131945\n",
      "hypertension                      0.127904\n",
      "ever_married                      0.108340\n",
      "work_type_children                0.083869\n",
      "smoking_status_formerly smoked    0.064556\n",
      "work_type_Self-employed           0.062168\n",
      "bmi                               0.036110\n",
      "Residence_type                    0.015458\n",
      "work_type_Never_worked            0.014882\n",
      "work_type_Private                 0.011888\n",
      "smoking_status_smokes             0.008939\n",
      "gender                            0.008929\n",
      "smoking_status_never smoked       0.004129\n",
      "Name: stroke, dtype: float64\n",
      "figure saved\n"
     ]
    },
    {
     "data": {
      "image/png": "[encoded data removed]",
      "text/plain": [
       "<Figure size 800x600 with 1 Axes>"
      ]
     },
     "metadata": {},
     "output_type": "display_data"
    }
   ],
   "source": [
    "corr_matrix = encoded_sk.corr()\n",
    "stroke_matrix = corr_matrix.stroke.drop('stroke')\n",
    "sorted_matrix = stroke_matrix.abs().sort_values(ascending = False)\n",
    "print('correlation with stroke:\\n',sorted_matrix)\n",
    "\n",
    "plt.figure(figsize = (8,6))\n",
    "sorted_matrix.plot(kind = 'bar')\n",
    "plt.title('feature correlation with stroke')\n",
    "plt.xlabel('Features')\n",
    "plt.ylabel('Absolute Correlation')\n",
    "plt.savefig('..\\\\visualization\\\\stroke_correlation')\n",
    "print('figure saved')\n",
    "plt.show()"
   ]
  },
  {
   "cell_type": "code",
   "execution_count": 18,
   "id": "a96a5eaf-b0b2-41a9-b20f-acba5529bbe9",
   "metadata": {},
   "outputs": [
    {
     "name": "stdout",
     "output_type": "stream",
     "text": [
      "top 3 predictors are: \n",
      " age                  0.245257\n",
      "age_hypertension     0.149634\n",
      "age_heart_disease    0.142783\n",
      "Name: stroke, dtype: float64\n"
     ]
    }
   ],
   "source": [
    "print('top 3 predictors are: \\n' , sorted_matrix.head(3))"
   ]
  },
  {
   "cell_type": "code",
   "execution_count": 19,
   "id": "8659581a-0825-4ab8-8b61-abe90eac2839",
   "metadata": {},
   "outputs": [
    {
     "name": "stdout",
     "output_type": "stream",
     "text": [
      "Processed_data_saved with shape: (5110, 18)\n"
     ]
    }
   ],
   "source": [
    "encoded_sk.to_csv('..\\\\data\\\\processed_stroke_data.csv', index = False)\n",
    "print('Processed_data_saved with shape:', encoded_sk.shape)"
   ]
  },
  {
   "cell_type": "code",
   "execution_count": 20,
   "id": "668284fa-6a7c-4301-af1c-94b571c7af3a",
   "metadata": {},
   "outputs": [
    {
     "name": "stdout",
     "output_type": "stream",
     "text": [
      "(5110, 18)\n",
      "Index(['gender', 'age', 'hypertension', 'heart_disease', 'ever_married',\n",
      "       'Residence_type', 'avg_glucose_level', 'bmi', 'stroke',\n",
      "       'work_type_Never_worked', 'work_type_Private',\n",
      "       'work_type_Self-employed', 'work_type_children',\n",
      "       'smoking_status_formerly smoked', 'smoking_status_never smoked',\n",
      "       'smoking_status_smokes', 'age_hypertension', 'age_heart_disease'],\n",
      "      dtype='object')\n",
      "<class 'pandas.core.frame.DataFrame'>\n",
      "RangeIndex: 5110 entries, 0 to 5109\n",
      "Data columns (total 18 columns):\n",
      " #   Column                          Non-Null Count  Dtype  \n",
      "---  ------                          --------------  -----  \n",
      " 0   gender                          5110 non-null   int64  \n",
      " 1   age                             5110 non-null   float64\n",
      " 2   hypertension                    5110 non-null   int64  \n",
      " 3   heart_disease                   5110 non-null   int64  \n",
      " 4   ever_married                    5110 non-null   int64  \n",
      " 5   Residence_type                  5110 non-null   int64  \n",
      " 6   avg_glucose_level               5110 non-null   float64\n",
      " 7   bmi                             5110 non-null   float64\n",
      " 8   stroke                          5110 non-null   int64  \n",
      " 9   work_type_Never_worked          5110 non-null   bool   \n",
      " 10  work_type_Private               5110 non-null   bool   \n",
      " 11  work_type_Self-employed         5110 non-null   bool   \n",
      " 12  work_type_children              5110 non-null   bool   \n",
      " 13  smoking_status_formerly smoked  5110 non-null   bool   \n",
      " 14  smoking_status_never smoked     5110 non-null   bool   \n",
      " 15  smoking_status_smokes           5110 non-null   bool   \n",
      " 16  age_hypertension                5110 non-null   float64\n",
      " 17  age_heart_disease               5110 non-null   float64\n",
      "dtypes: bool(7), float64(5), int64(6)\n",
      "memory usage: 474.2 KB\n",
      "None\n"
     ]
    }
   ],
   "source": [
    "processed_df = pd.read_csv('..\\\\data\\\\processed_stroke_data.csv')\n",
    "\n",
    "print(processed_df.shape)\n",
    "print(processed_df.columns)\n",
    "print(processed_df.info())"
   ]
  },
  {
   "cell_type": "code",
   "execution_count": 21,
   "id": "6e186304-0e28-4acf-8c38-e500a33fd4f1",
   "metadata": {},
   "outputs": [
    {
     "name": "stdout",
     "output_type": "stream",
     "text": [
      "y_train shape stroke\n",
      "0    3889\n",
      "1     199\n",
      "Name: count, dtype: int64\n",
      "y_test shape stroke\n",
      "0    972\n",
      "1     50\n",
      "Name: count, dtype: int64\n",
      " \n",
      "after applying SMOTE \n",
      "\n",
      "y_train sampled stroke\n",
      "0    3889\n",
      "1    3889\n",
      "Name: count, dtype: int64\n",
      "y_train sampled shape (7778,)\n"
     ]
    }
   ],
   "source": [
    "X = processed_df.drop('stroke', axis = 1)\n",
    "y = processed_df['stroke']\n",
    "\n",
    "x_train, x_test, y_train, y_test = train_test_split(X, y, random_state = 42, train_size = 0.8, stratify = y)\n",
    "print('y_train shape',y_train.value_counts())\n",
    "print('y_test shape',y_test.value_counts())\n",
    "\n",
    "smote = SMOTE(random_state = 42)\n",
    "x_train_sampled , y_train_sampled = smote.fit_resample(x_train,y_train)\n",
    "print(' \\nafter applying SMOTE \\n')\n",
    "print('y_train sampled',y_train_sampled.value_counts())\n",
    "print('y_train sampled shape',y_train_sampled.shape)\n"
   ]
  },
  {
   "cell_type": "code",
   "execution_count": 22,
   "id": "5e02d897-09af-4295-9a6f-75e272bc7447",
   "metadata": {},
   "outputs": [
    {
     "name": "stdout",
     "output_type": "stream",
     "text": [
      "x_train scaled shape (7778, 17)\n",
      "x_test scaled shape (1022, 17)\n"
     ]
    }
   ],
   "source": [
    "from sklearn.compose import ColumnTransformer\n",
    "from sklearn.preprocessing import MinMaxScaler\n",
    "\n",
    "columns_to_scale = ['age', 'avg_glucose_level', 'bmi','age_hypertension','age_heart_disease']\n",
    "\n",
    "preprocessor = ColumnTransformer(\n",
    "    transformers = [\n",
    "        ('scaler', MinMaxScaler(), columns_to_scale)\n",
    "    ],\n",
    "    remainder = 'passthrough'\n",
    ")\n",
    "\n",
    "scaled_x_train = preprocessor.fit_transform(x_train_sampled)\n",
    "scaled_x_test = preprocessor.transform(x_test)\n",
    "\n",
    "joblib.dump(preprocessor,'..\\\\model\\\\preprocessor.joblib')\n",
    "\n",
    "print('x_train scaled shape',scaled_x_train.shape)\n",
    "print('x_test scaled shape',scaled_x_test.shape)"
   ]
  },
  {
   "cell_type": "code",
   "execution_count": 23,
   "id": "a5736adb-e377-458a-b3b8-2e144aab8e3e",
   "metadata": {},
   "outputs": [],
   "source": [
    "svc = SVC(kernel = 'rbf', probability = True, random_state = 42)\n",
    "knc = KNeighborsClassifier(n_neighbors = 5)\n",
    "lrc = LogisticRegression(solver = 'liblinear', penalty = 'l1' , class_weight = 'balanced')\n",
    "rfc = RandomForestClassifier(n_estimators = 100, random_state = 42 , class_weight = 'balanced')\n",
    "xgb = XGBClassifier(n_estimators = 100, random_state = 42, scale_pos_weight = 10)"
   ]
  },
  {
   "cell_type": "code",
   "execution_count": 24,
   "id": "ee1177aa-c3fa-45a9-ab7a-f850da058afd",
   "metadata": {},
   "outputs": [],
   "source": [
    "models = {\n",
    "    'SVC' : svc,\n",
    "    'KNC' : knc,\n",
    "    'LRC' : lrc,\n",
    "    'RFC' : rfc,\n",
    "    'XGB' : xgb\n",
    "}"
   ]
  },
  {
   "cell_type": "code",
   "execution_count": null,
   "id": "110c3416-2601-476c-856f-fd34ec8408fd",
   "metadata": {},
   "outputs": [],
   "source": [
    "\n",
    "\n",
    "from sklearn.metrics import recall_score, roc_auc_score\n",
    "\n",
    "def train_model(model, x_train_sampled, y_train_sampled, scaled_x_test, y_test):\n",
    "    model.fit(x_train_sampled, y_train_sampled)\n",
    "    y_pred = model.predict(scaled_x_test)\n",
    "    accuracy = accuracy_score(y_test, y_pred)\n",
    "    precision = precision_score(y_test, y_pred, zero_division=0)\n",
    "    recall = recall_score(y_test, y_pred, zero_division=0)\n",
    "    roc_auc = roc_auc_score(y_test, model.predict_proba(scaled_x_test)[:, 1]) if hasattr(model, \"predict_proba\") else None\n",
    "    return accuracy, precision, recall, roc_auc, y_pred"
   ]
  },
  {
   "cell_type": "code",
   "execution_count": 26,
   "id": "f667f3d5-c8a2-4f7d-9f5f-7d3d9e23785e",
   "metadata": {},
   "outputs": [
    {
     "name": "stdout",
     "output_type": "stream",
     "text": [
      "\n",
      "for SVC\n",
      "confusion matrix: \n",
      " [[868 104]\n",
      " [ 27  23]]\n",
      "accuracy score:  0.8718199608610567\n",
      "precision score:  0.18110236220472442\n",
      "recall:  0.46\n",
      "ROC-AUC 0.7830658436213992\n",
      "\n",
      "for KNC\n",
      "confusion matrix: \n",
      " [[859 113]\n",
      " [ 31  19]]\n",
      "accuracy score:  0.8590998043052838\n",
      "precision score:  0.14393939393939395\n",
      "recall:  0.38\n",
      "ROC-AUC 0.6642181069958847\n",
      "\n",
      "for LRC\n",
      "confusion matrix: \n",
      " [[818 154]\n",
      " [ 21  29]]\n",
      "accuracy score:  0.8287671232876712\n",
      "precision score:  0.15846994535519127\n",
      "recall:  0.58\n",
      "ROC-AUC 0.7983333333333333\n",
      "\n",
      "for RFC\n",
      "confusion matrix: \n",
      " [[926  46]\n",
      " [ 39  11]]\n",
      "accuracy score:  0.9168297455968689\n",
      "precision score:  0.19298245614035087\n",
      "recall:  0.22\n",
      "ROC-AUC 0.7904012345679012\n",
      "\n",
      "for XGB\n",
      "confusion matrix: \n",
      " [[886  86]\n",
      " [ 34  16]]\n",
      "accuracy score:  0.8825831702544031\n",
      "precision score:  0.1568627450980392\n",
      "recall:  0.32\n",
      "ROC-AUC 0.7801234567901234\n",
      "\n",
      "     Accuracy  Precision  Recall   ROC-AUC\n",
      "SVC  0.871820   0.181102    0.46  0.783066\n",
      "KNC  0.859100   0.143939    0.38  0.664218\n",
      "LRC  0.828767   0.158470    0.58  0.798333\n",
      "RFC  0.916830   0.192982    0.22  0.790401\n",
      "XGB  0.882583   0.156863    0.32  0.780123\n"
     ]
    }
   ],
   "source": [
    "results = {}\n",
    "for name, model in models.items():\n",
    "    accuracy ,precision ,recall, roc_auc, y_pred= train_model(model, scaled_x_train, y_train_sampled, scaled_x_test, y_test)\n",
    "    results[name] = {\n",
    "        'Accuracy': accuracy,\n",
    "        'Precision': precision,\n",
    "        'Recall': recall,\n",
    "        'ROC-AUC': roc_auc\n",
    "    }\n",
    "    print('\\nfor', name)\n",
    "    print('confusion matrix: \\n',confusion_matrix(y_test,y_pred))\n",
    "    print('accuracy score: ', accuracy)\n",
    "    print('precision score: ', precision)\n",
    "    print('recall: ', recall)\n",
    "    print('ROC-AUC', roc_auc)\n",
    "\n",
    "print('')\n",
    "results_df = pd.DataFrame(results).T\n",
    "print(results_df)"
   ]
  },
  {
   "cell_type": "code",
   "execution_count": 29,
   "id": "a3520c90-be37-465e-b363-c824520c05f9",
   "metadata": {},
   "outputs": [
    {
     "name": "stdout",
     "output_type": "stream",
     "text": [
      "best parameter:  {'learning_rate': 0.1, 'max_depth': 7, 'n_estimators': 200, 'subsample': 0.8}\n",
      "best ROC-AUC (CV): 0.9934163672465031\n",
      "\n",
      "best model\n",
      "confusion matrix:\n",
      " [[886  86]\n",
      " [ 36  14]]\n",
      "              precision    recall  f1-score   support\n",
      "\n",
      "           0       0.96      0.91      0.94       972\n",
      "           1       0.14      0.28      0.19        50\n",
      "\n",
      "    accuracy                           0.88      1022\n",
      "   macro avg       0.55      0.60      0.56      1022\n",
      "weighted avg       0.92      0.88      0.90      1022\n",
      "\n",
      "ROC-AUC: 0.7891\n"
     ]
    },
    {
     "data": {
      "text/plain": [
       "['..\\\\model\\\\fine_tunned_xgbclassifier.joblib']"
      ]
     },
     "execution_count": 29,
     "metadata": {},
     "output_type": "execute_result"
    }
   ],
   "source": [
    "params_grid = {\n",
    "    'n_estimators': [100, 200],\n",
    "    'max_depth': [3, 5, 7],\n",
    "    'learning_rate': [0.01, 0.1],\n",
    "    'subsample': [0.8, 1.0]\n",
    "}\n",
    "\n",
    "xgb = XGBClassifier(random_state = 42, scale_pos_weight=10)\n",
    "grid_search = GridSearchCV(xgb, params_grid, cv = 5, scoring= 'roc_auc', n_jobs = -1)\n",
    "grid_search.fit(scaled_x_train,y_train_sampled)\n",
    "\n",
    "best_model = grid_search.best_estimator_\n",
    "y_pred_best = best_model.predict(scaled_x_test)\n",
    "print('best parameter: ',grid_search.best_params_)\n",
    "print('best ROC-AUC (CV):',grid_search.best_score_)\n",
    "print('\\nbest model')\n",
    "print('confusion matrix:\\n',confusion_matrix(y_test, y_pred_best))\n",
    "print(classification_report(y_test,y_pred_best))\n",
    "print(f'ROC-AUC: {roc_auc_score(y_test, best_model.predict_proba(scaled_x_test)[:, 1]):.4f}')\n",
    "\n",
    "joblib.dump(best_model,'..\\\\model\\\\fine_tunned_xgbclassifier.joblib')"
   ]
  },
  {
   "cell_type": "code",
   "execution_count": null,
   "id": "883918f1-0d48-49ec-8fdd-081a32429381",
   "metadata": {},
   "outputs": [],
   "source": []
  }
 ],
 "metadata": {
  "kernelspec": {
   "display_name": "Python 3 (ipykernel)",
   "language": "python",
   "name": "python3"
  },
  "language_info": {
   "codemirror_mode": {
    "name": "ipython",
    "version": 3
   },
   "file_extension": ".py",
   "mimetype": "text/x-python",
   "name": "python",
   "nbconvert_exporter": "python",
   "pygments_lexer": "ipython3",
   "version": "3.12.3"
  }
 },
 "nbformat": 4,
 "nbformat_minor": 5
}
